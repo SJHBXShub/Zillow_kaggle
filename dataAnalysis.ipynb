{
 "cells": [
  {
   "cell_type": "code",
   "execution_count": 24,
   "metadata": {},
   "outputs": [],
   "source": [
    "import numpy as np # linear algebra\n",
    "import pandas as pd # data processing, CSV file I/O (e.g. pd.read_csv)\n",
    "import matplotlib.pyplot as plt\n",
    "import seaborn as sns\n",
    "color = sns.color_palette()\n",
    "\n",
    "%matplotlib inline\n",
    "\n",
    "pd.options.mode.chained_assignment = None\n",
    "pd.options.display.max_columns = 999\n"
   ]
  },
  {
   "cell_type": "code",
   "execution_count": 25,
   "metadata": {},
   "outputs": [
    {
     "name": "stdout",
     "output_type": "stream",
     "text": [
      "Total train data number is: 90275\n",
      "   parcelid  logerror transactiondate\n",
      "0  11016594    0.0276      2016-01-01\n",
      "1  14366692   -0.1684      2016-01-01\n",
      "2  12098116   -0.0040      2016-01-01\n",
      "3  12643413    0.0218      2016-01-02\n",
      "4  14432541   -0.0050      2016-01-02\n"
     ]
    }
   ],
   "source": [
    "# Load train Data\n",
    "train_df = pd.read_csv(\"../Data/train_2016_v2.csv\", parse_dates=[\"transactiondate\"])\n",
    "print(\"Total train data number is:\", train_df.shape[0])\n",
    "print(train_df.head())\n"
   ]
  },
  {
   "cell_type": "code",
   "execution_count": 52,
   "metadata": {},
   "outputs": [
    {
     "data": {
      "image/png": "[encoded data removed]",
      "text/plain": [
       "<matplotlib.figure.Figure at 0x246d76dfb38>"
      ]
     },
     "metadata": {},
     "output_type": "display_data"
    }
   ],
   "source": [
    "# Analysis log error -- label \n",
    "plt.figure(figsize=(8,6))\n",
    "sns.distplot(train_df.logerror.values, bins=100, kde=False)\n",
    "plt.xlabel('logerror', fontsize=12)\n",
    "plt.show()\n",
    "\n",
    "# From the below fig, we can see there is a normal distribution on the log error "
   ]
  },
  {
   "cell_type": "code",
   "execution_count": null,
   "metadata": {},
   "outputs": [],
   "source": [
    "# Analysis trainsaction date\n",
    "train_df['transaction_month'] = train_df['transactiondate'].dt.month\n",
    "cnt_srs = train_df['transaction_month'].value_counts()\n",
    "plt.subplot(2,2,1)\n",
    "sns.barplot(cnt_srs.index, cnt_srs.values)\n",
    "plt.xticks(rotation='vertical')\n",
    "plt.xlabel('Month of transaction', fontsize=12)\n",
    "plt.ylabel('Number of Occurrences', fontsize=12)\n",
    "plt.show()\n",
    "\n",
    "train_df['transaction_week'] = train_df['transactiondate'].dt.weekday\n",
    "cnt_srs = train_df['transaction_week'].value_counts()\n",
    "plt.subplot(2,2,3)\n",
    "sns.barplot(cnt_srs.index, cnt_srs.values)\n",
    "plt.xticks(rotation='vertical')\n",
    "plt.xlabel('Week of transaction', fontsize=12)\n",
    "plt.ylabel('Number of Occurrences', fontsize=12)\n",
    "plt.show()\n"
   ]
  },
  {
   "cell_type": "markdown",
   "metadata": {},
   "source": [
    "From the below figs, we can see that there is a significant difference in the number of occurrences. \n",
    "Besides, at the end of year and week, the number of occurrences is quite low."
   ]
  },
  {
   "cell_type": "code",
   "execution_count": 53,
   "metadata": {},
   "outputs": [
    {
     "data": {
      "text/plain": [
       "1    90026\n",
       "2      123\n",
       "3        1\n",
       "Name: parcelid, dtype: int64"
      ]
     },
     "execution_count": 53,
     "metadata": {},
     "output_type": "execute_result"
    }
   ],
   "source": [
    "# Analysis ID\n",
    "(train_df['parcelid'].value_counts().reset_index())['parcelid'].value_counts()"
   ]
  },
  {
   "cell_type": "raw",
   "metadata": {},
   "source": [
    "So most of the parcel ids are appearing only once in the dataset."
   ]
  },
  {
   "cell_type": "code",
   "execution_count": null,
   "metadata": {},
   "outputs": [],
   "source": []
  }
 ],
 "metadata": {
  "kernelspec": {
   "display_name": "Python 3",
   "language": "python",
   "name": "python3"
  },
  "language_info": {
   "codemirror_mode": {
    "name": "ipython",
    "version": 3
   },
   "file_extension": ".py",
   "mimetype": "text/x-python",
   "name": "python",
   "nbconvert_exporter": "python",
   "pygments_lexer": "ipython3",
   "version": "3.5.4"
  }
 },
 "nbformat": 4,
 "nbformat_minor": 2
}
